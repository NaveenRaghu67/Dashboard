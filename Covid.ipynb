{
 "cells": [
  {
   "cell_type": "code",
   "execution_count": 2,
   "metadata": {},
   "outputs": [
    {
     "ename": "KeyboardInterrupt",
     "evalue": "",
     "output_type": "error",
     "traceback": [
      "\u001b[1;31m---------------------------------------------------------------------------\u001b[0m",
      "\u001b[1;31mKeyboardInterrupt\u001b[0m                         Traceback (most recent call last)",
      "\u001b[1;32mC:\\Users\\SRIGAN~1\\AppData\\Local\\Temp/ipykernel_10040/89033718.py\u001b[0m in \u001b[0;36m<module>\u001b[1;34m\u001b[0m\n\u001b[0;32m      1\u001b[0m \u001b[1;32mimport\u001b[0m \u001b[0mdash\u001b[0m\u001b[1;33m\u001b[0m\u001b[1;33m\u001b[0m\u001b[0m\n\u001b[1;32m----> 2\u001b[1;33m \u001b[1;32mimport\u001b[0m \u001b[0mpandas\u001b[0m \u001b[1;32mas\u001b[0m \u001b[0mpd\u001b[0m\u001b[1;33m\u001b[0m\u001b[1;33m\u001b[0m\u001b[0m\n\u001b[0m\u001b[0;32m      3\u001b[0m \u001b[1;32mimport\u001b[0m \u001b[0mplotly\u001b[0m\u001b[1;33m.\u001b[0m\u001b[0mexpress\u001b[0m \u001b[1;32mas\u001b[0m \u001b[0mpx\u001b[0m\u001b[1;33m\u001b[0m\u001b[1;33m\u001b[0m\u001b[0m\n\u001b[0;32m      4\u001b[0m \u001b[1;32mimport\u001b[0m \u001b[0mplotly\u001b[0m\u001b[1;33m.\u001b[0m\u001b[0mio\u001b[0m \u001b[1;32mas\u001b[0m \u001b[0mpio\u001b[0m\u001b[1;33m\u001b[0m\u001b[1;33m\u001b[0m\u001b[0m\n\u001b[0;32m      5\u001b[0m \u001b[0mpio\u001b[0m\u001b[1;33m.\u001b[0m\u001b[0mrenderers\u001b[0m\u001b[1;33m.\u001b[0m\u001b[0mdefault\u001b[0m \u001b[1;33m=\u001b[0m \u001b[1;34m\"browser\"\u001b[0m\u001b[1;33m\u001b[0m\u001b[1;33m\u001b[0m\u001b[0m\n",
      "\u001b[1;32m~\\anaconda3\\lib\\site-packages\\pandas\\__init__.py\u001b[0m in \u001b[0;36m<module>\u001b[1;34m\u001b[0m\n\u001b[0;32m    177\u001b[0m \u001b[1;33m\u001b[0m\u001b[0m\n\u001b[0;32m    178\u001b[0m \u001b[1;32mfrom\u001b[0m \u001b[0mpandas\u001b[0m\u001b[1;33m.\u001b[0m\u001b[0mutil\u001b[0m\u001b[1;33m.\u001b[0m\u001b[0m_tester\u001b[0m \u001b[1;32mimport\u001b[0m \u001b[0mtest\u001b[0m\u001b[1;33m\u001b[0m\u001b[1;33m\u001b[0m\u001b[0m\n\u001b[1;32m--> 179\u001b[1;33m \u001b[1;32mimport\u001b[0m \u001b[0mpandas\u001b[0m\u001b[1;33m.\u001b[0m\u001b[0mtesting\u001b[0m\u001b[1;33m\u001b[0m\u001b[1;33m\u001b[0m\u001b[0m\n\u001b[0m\u001b[0;32m    180\u001b[0m \u001b[1;32mimport\u001b[0m \u001b[0mpandas\u001b[0m\u001b[1;33m.\u001b[0m\u001b[0marrays\u001b[0m\u001b[1;33m\u001b[0m\u001b[1;33m\u001b[0m\u001b[0m\n\u001b[0;32m    181\u001b[0m \u001b[1;33m\u001b[0m\u001b[0m\n",
      "\u001b[1;32m~\\anaconda3\\lib\\site-packages\\pandas\\testing.py\u001b[0m in \u001b[0;36m<module>\u001b[1;34m\u001b[0m\n\u001b[0;32m      4\u001b[0m \u001b[1;33m\u001b[0m\u001b[0m\n\u001b[0;32m      5\u001b[0m \u001b[1;33m\u001b[0m\u001b[0m\n\u001b[1;32m----> 6\u001b[1;33m from pandas._testing import (\n\u001b[0m\u001b[0;32m      7\u001b[0m     \u001b[0massert_extension_array_equal\u001b[0m\u001b[1;33m,\u001b[0m\u001b[1;33m\u001b[0m\u001b[1;33m\u001b[0m\u001b[0m\n\u001b[0;32m      8\u001b[0m     \u001b[0massert_frame_equal\u001b[0m\u001b[1;33m,\u001b[0m\u001b[1;33m\u001b[0m\u001b[1;33m\u001b[0m\u001b[0m\n",
      "\u001b[1;32m~\\anaconda3\\lib\\site-packages\\pandas\\_testing\\__init__.py\u001b[0m in \u001b[0;36m<module>\u001b[1;34m\u001b[0m\n\u001b[0;32m     72\u001b[0m )\n\u001b[0;32m     73\u001b[0m \u001b[1;32mfrom\u001b[0m \u001b[0mpandas\u001b[0m\u001b[1;33m.\u001b[0m\u001b[0m_testing\u001b[0m\u001b[1;33m.\u001b[0m\u001b[0m_warnings\u001b[0m \u001b[1;32mimport\u001b[0m \u001b[0massert_produces_warning\u001b[0m  \u001b[1;31m# noqa:F401\u001b[0m\u001b[1;33m\u001b[0m\u001b[1;33m\u001b[0m\u001b[0m\n\u001b[1;32m---> 74\u001b[1;33m from pandas._testing.asserters import (  # noqa:F401\n\u001b[0m\u001b[0;32m     75\u001b[0m     \u001b[0massert_almost_equal\u001b[0m\u001b[1;33m,\u001b[0m\u001b[1;33m\u001b[0m\u001b[1;33m\u001b[0m\u001b[0m\n\u001b[0;32m     76\u001b[0m     \u001b[0massert_attr_equal\u001b[0m\u001b[1;33m,\u001b[0m\u001b[1;33m\u001b[0m\u001b[1;33m\u001b[0m\u001b[0m\n",
      "\u001b[1;32m~\\anaconda3\\lib\\importlib\\_bootstrap.py\u001b[0m in \u001b[0;36m_find_and_load\u001b[1;34m(name, import_)\u001b[0m\n",
      "\u001b[1;32m~\\anaconda3\\lib\\importlib\\_bootstrap.py\u001b[0m in \u001b[0;36m_find_and_load_unlocked\u001b[1;34m(name, import_)\u001b[0m\n",
      "\u001b[1;32m~\\anaconda3\\lib\\importlib\\_bootstrap.py\u001b[0m in \u001b[0;36m_load_unlocked\u001b[1;34m(spec)\u001b[0m\n",
      "\u001b[1;32m~\\anaconda3\\lib\\importlib\\_bootstrap_external.py\u001b[0m in \u001b[0;36mexec_module\u001b[1;34m(self, module)\u001b[0m\n",
      "\u001b[1;32m~\\anaconda3\\lib\\importlib\\_bootstrap_external.py\u001b[0m in \u001b[0;36mget_code\u001b[1;34m(self, fullname)\u001b[0m\n",
      "\u001b[1;32m~\\anaconda3\\lib\\importlib\\_bootstrap_external.py\u001b[0m in \u001b[0;36mget_data\u001b[1;34m(self, path)\u001b[0m\n",
      "\u001b[1;31mKeyboardInterrupt\u001b[0m: "
     ]
    }
   ],
   "source": [
    "import dash\n",
    "import pandas as pd\n",
    "import plotly.express as px\n",
    "import plotly.io as pio\n",
    "pio.renderers.default = \"browser\"\n",
    "from dash.dependencies import Input, Output\n",
    "import dash_core_components as dcc\n",
    "import dash_html_components as html\n",
    "import dash_bootstrap_components as dbc"
   ]
  },
  {
   "cell_type": "code",
   "execution_count": 1,
   "metadata": {},
   "outputs": [],
   "source": [
    "CONF_URL = 'D://Book1.csv'\n"
   ]
  },
  {
   "cell_type": "code",
   "execution_count": 3,
   "metadata": {},
   "outputs": [
    {
     "ename": "NameError",
     "evalue": "name 'pd' is not defined",
     "output_type": "error",
     "traceback": [
      "\u001b[1;31m---------------------------------------------------------------------------\u001b[0m",
      "\u001b[1;31mNameError\u001b[0m                                 Traceback (most recent call last)",
      "\u001b[1;32mC:\\Users\\SRIGAN~1\\AppData\\Local\\Temp/ipykernel_10040/2745298377.py\u001b[0m in \u001b[0;36m<module>\u001b[1;34m\u001b[0m\n\u001b[1;32m----> 1\u001b[1;33m \u001b[0mcovid_conf_ts\u001b[0m \u001b[1;33m=\u001b[0m \u001b[0mpd\u001b[0m\u001b[1;33m.\u001b[0m\u001b[0mread_csv\u001b[0m\u001b[1;33m(\u001b[0m\u001b[0mCONF_URL\u001b[0m\u001b[1;33m)\u001b[0m\u001b[1;33m\u001b[0m\u001b[1;33m\u001b[0m\u001b[0m\n\u001b[0m\u001b[0;32m      2\u001b[0m \u001b[0mcovid_tested_ts\u001b[0m \u001b[1;33m=\u001b[0m \u001b[0mpd\u001b[0m\u001b[1;33m.\u001b[0m\u001b[0mread_csv\u001b[0m\u001b[1;33m(\u001b[0m\u001b[0mCONF_URL\u001b[0m\u001b[1;33m)\u001b[0m\u001b[1;33m\u001b[0m\u001b[1;33m\u001b[0m\u001b[0m\n\u001b[0;32m      3\u001b[0m \u001b[0mcovid_recv_ts\u001b[0m \u001b[1;33m=\u001b[0m \u001b[0mpd\u001b[0m\u001b[1;33m.\u001b[0m\u001b[0mread_csv\u001b[0m\u001b[1;33m(\u001b[0m\u001b[0mCONF_URL\u001b[0m\u001b[1;33m)\u001b[0m\u001b[1;33m\u001b[0m\u001b[1;33m\u001b[0m\u001b[0m\n\u001b[0;32m      4\u001b[0m \u001b[0mcovid_des_ts\u001b[0m \u001b[1;33m=\u001b[0m \u001b[0mpd\u001b[0m\u001b[1;33m.\u001b[0m\u001b[0mread_csv\u001b[0m\u001b[1;33m(\u001b[0m\u001b[0mCONF_URL\u001b[0m\u001b[1;33m)\u001b[0m\u001b[1;33m\u001b[0m\u001b[1;33m\u001b[0m\u001b[0m\n",
      "\u001b[1;31mNameError\u001b[0m: name 'pd' is not defined"
     ]
    }
   ],
   "source": [
    "covid_conf_ts = pd.read_csv(CONF_URL)\n",
    "covid_tested_ts = pd.read_csv(CONF_URL)\n",
    "covid_recv_ts = pd.read_csv(CONF_URL)\n",
    "covid_des_ts = pd.read_csv(CONF_URL)"
   ]
  },
  {
   "cell_type": "markdown",
   "metadata": {},
   "source": [
    "Data Processing"
   ]
  },
  {
   "cell_type": "code",
   "execution_count": 223,
   "metadata": {},
   "outputs": [],
   "source": [
    "#get data in cleaned time series format for country\n",
    "def process_data(data,cntry='Germany',window=3):\n",
    "    conf_ts = data\n",
    "    conf_ts_cntry = conf_ts[conf_ts['country']==cntry]\n",
    "    final_dataset = conf_ts_cntry.T[1:5].sum(axis='columns').diff().rolling(window=window).mean()[:]\n",
    "    df = pd.DataFrame(final_dataset,columns=['Total'])\n",
    "    return df"
   ]
  },
  {
   "cell_type": "code",
   "execution_count": 224,
   "metadata": {},
   "outputs": [
    {
     "name": "stdout",
     "output_type": "stream",
     "text": [
      "Overall infected: 235156822.0\n",
      "Overall tested: 528011977.0\n",
      "Overall rec: 73488972.0\n",
      "Overall des: 3639224.0\n"
     ]
    }
   ],
   "source": [
    "#get overall wordlwide total for confirmed, recovered and dead cases\n",
    "def get_overall_total(df):\n",
    "    return df.iloc[:,1].sum()\n",
    "\n",
    "def get_overall_tested(df):\n",
    "    return df.iloc[:,2].sum()\n",
    "\n",
    "def get_overall_rec(df):\n",
    "    return df.iloc[:,3].sum()\n",
    "\n",
    "def get_overall_des(df):\n",
    "    return df.iloc[:,4].sum()\n",
    "\n",
    "conf_overall_total = get_overall_total(covid_conf_ts)\n",
    "conf_overall_tested = get_overall_tested(covid_tested_ts)\n",
    "conf_overall_rec = get_overall_rec(covid_conf_ts)\n",
    "conf_overall_des = get_overall_des(covid_conf_ts)\n",
    "\n",
    "print('Overall infected:',conf_overall_total)\n",
    "print('Overall tested:',conf_overall_tested)\n",
    "print('Overall rec:',conf_overall_rec)\n",
    "print('Overall des:',conf_overall_des)\n"
   ]
  },
  {
   "cell_type": "code",
   "execution_count": 225,
   "metadata": {},
   "outputs": [
    {
     "name": "stdout",
     "output_type": "stream",
     "text": [
      "Germany Confirmed: 9035795.0\n",
      "Germany Tested: 0.0\n",
      "Germany rec: 0.0\n",
      "Germany des: 117126.0\n"
     ]
    }
   ],
   "source": [
    "#get total for confirmed, recovered and dead for country \n",
    "def get_cntry_total(df,cntry='Germany'):\n",
    "    return df[df['country']==cntry].iloc[:,1].sum()\n",
    "\n",
    "def get_cntry_tested(df,cntry='Germany'):\n",
    "    return df[df['country']==cntry].iloc[:,2].sum()\n",
    "\n",
    "def get_cntry_rec(df,cntry='Germany'):\n",
    "    return df[df['country']==cntry].iloc[:,3].sum()\n",
    "\n",
    "def get_cntry_des(df,cntry='Germany'):\n",
    "    return df[df['country']==cntry].iloc[:,4].sum()\n",
    "\n",
    "cntry = 'Germany'\n",
    "conf_cntry_total = get_cntry_total(covid_conf_ts,cntry)\n",
    "conf_cntry_tested = get_cntry_tested(covid_tested_ts,cntry)\n",
    "conf_cntry_rec = get_cntry_rec(covid_recv_ts,cntry)  \n",
    "conf_cntry_des = get_cntry_des(covid_des_ts,cntry)\n",
    "\n",
    "print(f'{cntry} Confirmed:',conf_cntry_total)\n",
    "print(f'{cntry} Tested:',conf_cntry_tested)\n",
    "print(f'{cntry} rec:',conf_cntry_rec)\n",
    "print(f'{cntry} des:',conf_cntry_des)"
   ]
  },
  {
   "cell_type": "code",
   "execution_count": 294,
   "metadata": {},
   "outputs": [],
   "source": [
    "def fig_world_trend(cntry='Algeria',window=1):\n",
    "    df = process_data(data=covid_conf_ts,cntry=cntry,window=window)\n",
    "    df.head(10)\n",
    "    if window==1:\n",
    "        yaxis_title = \"Daily Cases\"\n",
    "    else:\n",
    "        yaxis_title = \"Daily Cases ({}-day MA)\".format(window)\n",
    "    fig = px.area(df, y='Total', x=df.index, title='Daily confirmed cases trend for {}'.format(cntry),height=600,color_discrete_sequence =['maroon'])\n",
    "    fig.update_layout(title_x=0,plot_bgcolor='#F2DFCE',paper_bgcolor='#F2DFCE',xaxis_title=\"Data\",yaxis_title=yaxis_title)\n",
    "    return fig"
   ]
  },
  {
   "cell_type": "code",
   "execution_count": 277,
   "metadata": {},
   "outputs": [],
   "source": [
    "external_stylesheets = [dbc.themes.BOOTSTRAP]"
   ]
  },
  {
   "cell_type": "code",
   "execution_count": 278,
   "metadata": {},
   "outputs": [],
   "source": [
    "app = dash.Dash(__name__, external_stylesheets=external_stylesheets)\n",
    "app.title = 'Covid-19 Dashboard'"
   ]
  },
  {
   "cell_type": "code",
   "execution_count": 279,
   "metadata": {},
   "outputs": [],
   "source": [
    "colors = {\n",
    "    'background': '#111111',\n",
    "    'bodyColor':'#F2DFCO',\n",
    "    'text': '#7FDBFF'\n",
    "}\n",
    "def get_page_heading_style():\n",
    "    return {'backgroundColor': colors['background']}\n",
    "\n",
    "\n",
    "def get_page_heading_title():\n",
    "    return html.H1(children='COVID-19 Dashboard',\n",
    "                                        style={\n",
    "                                        'textAlign': 'center',\n",
    "                                        'color': colors['text']\n",
    "                                    })\n",
    "\n",
    "def get_page_heading_subtitle():\n",
    "    return html.Div(children='Visualize Covid-19 data generated from sources all over the world.',\n",
    "                                         style={\n",
    "                                             'textAlign':'center',\n",
    "                                             'color':colors['text']\n",
    "                                         })\n",
    "\n",
    "def generate_page_header():\n",
    "    main_header =  dbc.Row(\n",
    "                            [\n",
    "                                dbc.Col(get_page_heading_title(),md=12)\n",
    "                            ],\n",
    "                            align=\"center\",\n",
    "                            style=get_page_heading_style()\n",
    "                        )\n",
    "    subtitle_header = dbc.Row(\n",
    "                            [\n",
    "                                dbc.Col(get_page_heading_subtitle(),md=15)\n",
    "                            ],\n",
    "                            align=\"center\",\n",
    "                            style=get_page_heading_style()\n",
    "                        )\n",
    "    header = (main_header,subtitle_header)\n",
    "    return header"
   ]
  },
  {
   "cell_type": "code",
   "execution_count": 280,
   "metadata": {},
   "outputs": [],
   "source": [
    "def get_country_list():\n",
    "    return covid_conf_ts['country'].unique()\n",
    "\n",
    "def create_dropdown_list(cntry_list):\n",
    "    dropdown_list = []\n",
    "    for cntry in sorted(cntry_list):\n",
    "        tmp_dict = {'label':cntry,'value':cntry}\n",
    "        dropdown_list.append(tmp_dict)\n",
    "    return dropdown_list\n",
    "\n",
    "def get_country_dropdown(id):\n",
    "    return html.Div([\n",
    "                        html.Label('Select Country'),\n",
    "                        dcc.Dropdown(id='my-id'+str(id),\n",
    "                            options=create_dropdown_list(get_country_list()),\n",
    "                            value='Germany'\n",
    "                        ),\n",
    "                        html.Div(id='my-div'+str(id))\n",
    "                    ])"
   ]
  },
  {
   "cell_type": "code",
   "execution_count": 295,
   "metadata": {},
   "outputs": [],
   "source": [
    "def graph1():\n",
    "    return dcc.Graph(id='graph1',figure=fig_world_trend('Germany'))"
   ]
  },
  {
   "cell_type": "code",
   "execution_count": 290,
   "metadata": {},
   "outputs": [],
   "source": [
    "def generate_card_content(card_header,card_value,overall_value):\n",
    "    card_head_style = {'textAlign':'center','fontSize':'150%'}\n",
    "    card_body_style = {'textAlign':'center','fontSize':'200%'}\n",
    "    card_header = dbc.CardHeader(card_header,style=card_head_style)\n",
    "    card_body = dbc.CardBody(\n",
    "        [\n",
    "            html.H5(f\"{int(card_value):,}\", className=\"card-title\",style=card_body_style),\n",
    "            html.P(\n",
    "                \"Worlwide: {:,}\".format(overall_value),\n",
    "                className=\"card-text\",style={'textAlign':'center'}\n",
    "            ),\n",
    "        ]\n",
    "    )\n",
    "    card = [card_header,card_body]\n",
    "    return card"
   ]
  },
  {
   "cell_type": "code",
   "execution_count": 291,
   "metadata": {},
   "outputs": [],
   "source": [
    "def generate_cards(cntry='Germany'):\n",
    "    conf_cntry_total = get_cntry_total(covid_conf_ts,cntry)\n",
    "    cards = html.Div(\n",
    "        [\n",
    "            dbc.Row(\n",
    "                [\n",
    "                   \n",
    "                    \n",
    "                    dbc.Col(dbc.Card(generate_card_content(\"Tested\",conf_cntry_tested,conf_overall_tested), color=\"success\", inverse=True),md=dict(size=2,offset=3)),\n",
    "                    dbc.Col(dbc.Card(generate_card_content(\"Recovered\",conf_cntry_rec,conf_overall_rec), color=\"warning\", inverse=True),md=dict(size=2)),\n",
    "                    dbc.Col(dbc.Card(generate_card_content(\"Infected\",conf_cntry_total,conf_overall_total), color=\"warning\", inverse=True),md=dict(size=2)),\n",
    "                    dbc.Col(dbc.Card(generate_card_content(\"des\",conf_cntry_des,conf_overall_des),color=\"dark\", inverse=True),md=dict(size=2)),\n",
    "                   \n",
    "                ],\n",
    "                className=\"mb-5\",\n",
    "            ),\n",
    "        ],id='card1'\n",
    "    )\n",
    "    return cards"
   ]
  },
  {
   "cell_type": "code",
   "execution_count": 296,
   "metadata": {},
   "outputs": [],
   "source": [
    "def generate_layout():\n",
    "    page_header = generate_page_header()\n",
    "    layout = dbc.Container(\n",
    "        [\n",
    "            page_header[0],\n",
    "            page_header[1],\n",
    "            html.Hr(),\n",
    "            generate_cards(),\n",
    "            html.Hr(),\n",
    "            dbc.Row(\n",
    "                [\n",
    "                    dbc.Col(get_country_dropdown(id=1),md=dict(size=4,offset=4))                    \n",
    "                ]\n",
    "            \n",
    "            ),\n",
    "            dbc.Row(\n",
    "                [                \n",
    "                    \n",
    "                    dbc.Col(graph1(),md=dict(size=6,offset=3))\n",
    "        \n",
    "                ],\n",
    "                align=\"center\",\n",
    "\n",
    "            ),\n",
    "        ],fluid=True,style={'backgroundColor': colors['bodyColor']}\n",
    "    )\n",
    "    return layout"
   ]
  },
  {
   "cell_type": "code",
   "execution_count": 297,
   "metadata": {},
   "outputs": [],
   "source": [
    "app.layout = generate_layout()\n"
   ]
  },
  {
   "cell_type": "code",
   "execution_count": 298,
   "metadata": {},
   "outputs": [],
   "source": [
    "@app.callback(\n",
    "    [Output(component_id='graph1',component_property='figure'), #line chart\n",
    "    Output(component_id='card1',component_property='children')], #overall card numbers\n",
    "    [Input(component_id='my-id1',component_property='value'), #dropdown\n",
    "     Input(component_id='my-slider',component_property='value')] #slider\n",
    ")\n",
    "def update_output_div(input_value1,input_value2):\n",
    "    return fig_world_trend(input_value1,input_value2),generate_cards(input_value1)"
   ]
  },
  {
   "cell_type": "code",
   "execution_count": 299,
   "metadata": {},
   "outputs": [
    {
     "name": "stdout",
     "output_type": "stream",
     "text": [
      "Dash is running on http://127.0.0.1:8050/\n",
      "\n",
      "Dash is running on http://127.0.0.1:8050/\n",
      "\n",
      "Dash is running on http://127.0.0.1:8050/\n",
      "\n",
      "Dash is running on http://127.0.0.1:8050/\n",
      "\n",
      "Dash is running on http://127.0.0.1:8050/\n",
      "\n",
      "Dash is running on http://127.0.0.1:8050/\n",
      "\n",
      "Dash is running on http://127.0.0.1:8050/\n",
      "\n",
      "Dash is running on http://127.0.0.1:8050/\n",
      "\n",
      "Dash is running on http://127.0.0.1:8050/\n",
      "\n",
      "Dash is running on http://127.0.0.1:8050/\n",
      "\n",
      "Dash is running on http://127.0.0.1:8050/\n",
      "\n",
      " * Serving Flask app '__main__' (lazy loading)\n",
      " * Environment: production\n",
      "\u001b[31m   WARNING: This is a development server. Do not use it in a production deployment.\u001b[0m\n",
      "\u001b[2m   Use a production WSGI server instead.\u001b[0m\n",
      " * Debug mode: off\n"
     ]
    }
   ],
   "source": [
    "app.run_server(host= '127.0.0.1',debug=False)"
   ]
  }
 ],
 "metadata": {
  "kernelspec": {
   "display_name": "Python 3",
   "language": "python",
   "name": "python3"
  },
  "language_info": {
   "codemirror_mode": {
    "name": "ipython",
    "version": 3
   },
   "file_extension": ".py",
   "mimetype": "text/x-python",
   "name": "python",
   "nbconvert_exporter": "python",
   "pygments_lexer": "ipython3",
   "version": "3.9.7"
  }
 },
 "nbformat": 4,
 "nbformat_minor": 2
}
